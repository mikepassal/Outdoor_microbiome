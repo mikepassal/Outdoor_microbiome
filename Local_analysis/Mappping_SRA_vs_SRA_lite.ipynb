{
 "cells": [
  {
   "cell_type": "code",
   "execution_count": 2,
   "id": "a0e4a3f2",
   "metadata": {},
   "outputs": [],
   "source": [
    "import os"
   ]
  },
  {
   "cell_type": "code",
   "execution_count": 3,
   "id": "0cc7fe22",
   "metadata": {},
   "outputs": [],
   "source": [
    "list_of_folders_to_run_STAR_in = ['/Users/michael/Data/Arabidopsis_SRA_data/Check_sra_lite_vs_reg/sra_lite/ERR10962770',\n",
    "                                  '/Users/michael/Data/Arabidopsis_SRA_data/Check_sra_lite_vs_reg/sra_lite/SRR30593421',\n",
    "                                  '/Users/michael/Data/Arabidopsis_SRA_data/Check_sra_lite_vs_reg/sra_lite/SRR31112633',\n",
    "                                  '/Users/michael/Data/Arabidopsis_SRA_data/Check_sra_lite_vs_reg/sra_lite/SRR34697341',\n",
    "                                  '/Users/michael/Data/Arabidopsis_SRA_data/Check_sra_lite_vs_reg/sra_reg/ERR10962770',\n",
    "                                  '/Users/michael/Data/Arabidopsis_SRA_data/Check_sra_lite_vs_reg/sra_reg/SRR30593421',\n",
    "                                  '/Users/michael/Data/Arabidopsis_SRA_data/Check_sra_lite_vs_reg/sra_reg/SRR31112633',\n",
    "                                  '/Users/michael/Data/Arabidopsis_SRA_data/Check_sra_lite_vs_reg/sra_reg/SRR34697341']\n",
    "genome_dir = '/Users/michael/Data/Genomes/Arabidopsis_thaliana/'"
   ]
  },
  {
   "cell_type": "code",
   "execution_count": 7,
   "id": "9ce2f9a5",
   "metadata": {},
   "outputs": [
    {
     "name": "stdout",
     "output_type": "stream",
     "text": [
      "ERR10962770\n"
     ]
    }
   ],
   "source": [
    "for file in list_of_folders_to_run_STAR_in:\n",
    "    print(file.split('/')[-1])\n",
    "    break\n",
    "    current_files = os.listdir(file)\n",
    "    num_files = len(current_files)\n",
    "    os.system(f\"STAR --genomeLoad LoadAndExit --genomeDir {genome_dir}\")\n",
    "    if num_files ==2:\n",
    "            matched_file = [s for s in current_files if '.fastq' in s]\n",
    "            print(f'Running {file}')\n",
    "            os.system(f'STAR --runThreadN 11 --genomeDir {genome_dir} --readFilesIn {file}/{matched_file[0]}  --outFileNamePrefix /{file}_sra_lite_ --outSAMtype None --quantMode GeneCounts')\n",
    "    elif num_files == 3:\n",
    "                matched_read_1 = [s for s in current_files if '_1.fastq' in s]\n",
    "                matched_read_2 = [s for s in current_files if '_2.fastq' in s]  \n",
    "                os.system(f'STAR --runThreadN 11 --genomeDir {genome_dir} --readFilesIn {file}/{matched_read_1[0]} {file}/{matched_read_2[0]}  --outFileNamePrefix /{file}_sra_lite_ --outSAMtype None --quantMode GeneCounts')\n",
    "#os.system(f\"STAR --genomeLoad Remove --genomeDir {genome_dir}\")\n"
   ]
  },
  {
   "cell_type": "code",
   "execution_count": 6,
   "id": "df406c09",
   "metadata": {},
   "outputs": [
    {
     "data": {
      "text/plain": [
       "'/Users/michael/Data/Arabidopsis_SRA_data/Check_sra_lite_vs_reg/sra_lite/ERR10962770'"
      ]
     },
     "execution_count": 6,
     "metadata": {},
     "output_type": "execute_result"
    }
   ],
   "source": [
    "file"
   ]
  },
  {
   "cell_type": "code",
   "execution_count": 14,
   "id": "10498b97",
   "metadata": {},
   "outputs": [
    {
     "data": {
      "text/plain": [
       "['SRR31112633_1.fastq']"
      ]
     },
     "execution_count": 14,
     "metadata": {},
     "output_type": "execute_result"
    }
   ],
   "source": [
    "matched_read_1"
   ]
  },
  {
   "cell_type": "code",
   "execution_count": 15,
   "id": "61f5e88f",
   "metadata": {},
   "outputs": [
    {
     "data": {
      "text/plain": [
       "['SRR31112633_2.fastq']"
      ]
     },
     "execution_count": 15,
     "metadata": {},
     "output_type": "execute_result"
    }
   ],
   "source": [
    "matched_read_2"
   ]
  },
  {
   "cell_type": "code",
   "execution_count": null,
   "id": "036e8056",
   "metadata": {},
   "outputs": [],
   "source": []
  }
 ],
 "metadata": {
  "kernelspec": {
   "display_name": "rna-seq",
   "language": "python",
   "name": "python3"
  },
  "language_info": {
   "codemirror_mode": {
    "name": "ipython",
    "version": 3
   },
   "file_extension": ".py",
   "mimetype": "text/x-python",
   "name": "python",
   "nbconvert_exporter": "python",
   "pygments_lexer": "ipython3",
   "version": "3.14.0"
  }
 },
 "nbformat": 4,
 "nbformat_minor": 5
}
