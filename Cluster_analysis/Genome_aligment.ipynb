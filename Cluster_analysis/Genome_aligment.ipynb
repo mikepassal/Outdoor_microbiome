{
 "cells": [
  {
   "cell_type": "code",
   "execution_count": null,
   "id": "378b08e1",
   "metadata": {},
   "outputs": [],
   "source": [
    "!srun --cpus-per-task=24 --nodes=1 --mem=24GB STAR --runThreadN 24 --runMode genomeGenerate --genomeDir ~/Genomes/arabidopsis_thaliana/ --genomeFastaFiles ~/Genomes/arabidopsis_thaliana/arabidopsis_thaliana.fna --sjdbGTFfile ~/Genomes/arabidopsis_thaliana/arabidopsis_thaliana.gtf --sjdbOverhang 100 --genomeSAindexNbases 13\n"
   ]
  },
  {
   "cell_type": "code",
   "execution_count": null,
   "id": "412e759b",
   "metadata": {},
   "outputs": [
    {
     "ename": "",
     "evalue": "",
     "output_type": "error",
     "traceback": [
      "\u001b[1;31mRunning cells with 'Python 3.11.2' requires the ipykernel package.\n",
      "\u001b[1;31m<a href='command:jupyter.createPythonEnvAndSelectController'>Create a Python Environment</a> with the required packages."
     ]
    }
   ],
   "source": [
    "list_of_samples_to_process = ['A2450525897_n01_LICRNA01_A01.fastq',\n",
    "                              'A2450525897_n01_LICRNA01_B01.fastq',\n",
    "                              'A2450525897_n01_LICRNA01_C01.fastq',\n",
    "                              'A2450525897_n01_LICRNA01_D01.fastq',\n",
    "                              'A2450525897_n01_LICRNA01_E01.fastq',\n",
    "                              'A2450525897_n01_LICRNA01_F01.fastq',\n",
    "                              'A2450525897_n01_LICRNA01_G01.fastq',\n",
    "                              'A2450525897_n01_LICRNA01_H01.fastq',\n",
    "                              'A2450525897_n01_LICRNA01_A02.fastq',\n",
    "                              'A2450525897_n01_LICRNA01_B02.fastq']"
   ]
  },
  {
   "cell_type": "code",
   "execution_count": null,
   "id": "9fdee1c9",
   "metadata": {},
   "outputs": [],
   "source": []
  }
 ],
 "metadata": {
  "kernelspec": {
   "display_name": "Python 3",
   "language": "python",
   "name": "python3"
  },
  "language_info": {
   "name": "python",
   "version": "3.11.2"
  }
 },
 "nbformat": 4,
 "nbformat_minor": 5
}
