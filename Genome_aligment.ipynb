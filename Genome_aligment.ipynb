{
 "cells": [
  {
   "cell_type": "code",
   "execution_count": null,
   "id": "378b08e1",
   "metadata": {},
   "outputs": [],
   "source": [
    "!srun --cpus-per-task=24 --nodes=1 --mem=24GB STAR --runThreadN 24 --runMode genomeGenerate --genomeDir ~/Genomes/arabidopsis_thaliana/ --genomeFastaFiles ~/Genomes/arabidopsis_thaliana/arabidopsis_thaliana.fna --sjdbGTFfile ~/Genomes/arabidopsis_thaliana/arabidopsis_thaliana.gtf --sjdbOverhang 100 --genomeSAindexNbases 13\n"
   ]
  }
 ],
 "metadata": {
  "language_info": {
   "name": "python"
  }
 },
 "nbformat": 4,
 "nbformat_minor": 5
}
